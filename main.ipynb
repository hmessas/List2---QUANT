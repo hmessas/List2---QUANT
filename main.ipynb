{
 "cells": [
  {
   "cell_type": "code",
   "execution_count": 40,
   "metadata": {},
   "outputs": [],
   "source": [
    "import pandas as pd\n",
    "import numpy as np\n",
    "import pandas_datareader as pdr\n",
    "import matplotlib.pyplot as plt\n",
    "import yfinance as yf\n",
    "from sklearn import preprocessing\n",
    "from scipy.stats import norm,t,skew,kurtosis,ttest_1samp,ttest_ind\n"
   ]
  },
  {
   "cell_type": "code",
   "execution_count": 41,
   "metadata": {},
   "outputs": [
    {
     "name": "stdout",
     "output_type": "stream",
     "text": [
      "[*********************100%***********************]  5 of 5 completed\n"
     ]
    },
    {
     "data": {
      "text/html": [
       "<div>\n",
       "<style scoped>\n",
       "    .dataframe tbody tr th:only-of-type {\n",
       "        vertical-align: middle;\n",
       "    }\n",
       "\n",
       "    .dataframe tbody tr th {\n",
       "        vertical-align: top;\n",
       "    }\n",
       "\n",
       "    .dataframe thead th {\n",
       "        text-align: right;\n",
       "    }\n",
       "</style>\n",
       "<table border=\"1\" class=\"dataframe\">\n",
       "  <thead>\n",
       "    <tr style=\"text-align: right;\">\n",
       "      <th></th>\n",
       "      <th>Retorno</th>\n",
       "    </tr>\n",
       "    <tr>\n",
       "      <th>Date</th>\n",
       "      <th></th>\n",
       "    </tr>\n",
       "  </thead>\n",
       "  <tbody>\n",
       "    <tr>\n",
       "      <th>2017-01-03 00:00:00-02:00</th>\n",
       "      <td>0.032506</td>\n",
       "    </tr>\n",
       "    <tr>\n",
       "      <th>2017-01-04 00:00:00-02:00</th>\n",
       "      <td>-0.002859</td>\n",
       "    </tr>\n",
       "    <tr>\n",
       "      <th>2017-01-05 00:00:00-02:00</th>\n",
       "      <td>0.013111</td>\n",
       "    </tr>\n",
       "    <tr>\n",
       "      <th>2017-01-06 00:00:00-02:00</th>\n",
       "      <td>-0.008081</td>\n",
       "    </tr>\n",
       "    <tr>\n",
       "      <th>2017-01-09 00:00:00-02:00</th>\n",
       "      <td>-0.002209</td>\n",
       "    </tr>\n",
       "    <tr>\n",
       "      <th>...</th>\n",
       "      <td>...</td>\n",
       "    </tr>\n",
       "    <tr>\n",
       "      <th>2021-12-23 00:00:00-03:00</th>\n",
       "      <td>0.003249</td>\n",
       "    </tr>\n",
       "    <tr>\n",
       "      <th>2021-12-27 00:00:00-03:00</th>\n",
       "      <td>0.006285</td>\n",
       "    </tr>\n",
       "    <tr>\n",
       "      <th>2021-12-28 00:00:00-03:00</th>\n",
       "      <td>0.002100</td>\n",
       "    </tr>\n",
       "    <tr>\n",
       "      <th>2021-12-29 00:00:00-03:00</th>\n",
       "      <td>-0.002181</td>\n",
       "    </tr>\n",
       "    <tr>\n",
       "      <th>2021-12-30 00:00:00-03:00</th>\n",
       "      <td>-0.004485</td>\n",
       "    </tr>\n",
       "  </tbody>\n",
       "</table>\n",
       "<p>1242 rows × 1 columns</p>\n",
       "</div>"
      ],
      "text/plain": [
       "                            Retorno\n",
       "Date                               \n",
       "2017-01-03 00:00:00-02:00  0.032506\n",
       "2017-01-04 00:00:00-02:00 -0.002859\n",
       "2017-01-05 00:00:00-02:00  0.013111\n",
       "2017-01-06 00:00:00-02:00 -0.008081\n",
       "2017-01-09 00:00:00-02:00 -0.002209\n",
       "...                             ...\n",
       "2021-12-23 00:00:00-03:00  0.003249\n",
       "2021-12-27 00:00:00-03:00  0.006285\n",
       "2021-12-28 00:00:00-03:00  0.002100\n",
       "2021-12-29 00:00:00-03:00 -0.002181\n",
       "2021-12-30 00:00:00-03:00 -0.004485\n",
       "\n",
       "[1242 rows x 1 columns]"
      ]
     },
     "execution_count": 41,
     "metadata": {},
     "output_type": "execute_result"
    }
   ],
   "source": [
    "df=pd.DataFrame()\n",
    "df=yf.download(\"PETR4.SA CSNA3.SA ITUB4.SA JBSS3.SA TAEE11.SA\",start='2017-01-01',end='2022-01-01')[\"Adj Close\"]\n",
    "\n",
    "df_ret=pd.DataFrame()\n",
    "df_ret[\"LogRetornosPetr\"]=np.log(df[\"PETR4.SA\"]/df['PETR4.SA'].shift(1))\n",
    "df_ret[\"LogRetornosCsna\"]=np.log(df[\"CSNA3.SA\"]/df['CSNA3.SA'].shift(1))\n",
    "df_ret[\"LogRetornosItub\"]=np.log(df[\"ITUB4.SA\"]/df['ITUB4.SA'].shift(1))\n",
    "df_ret[\"LogRetornosJbss\"]=np.log(df[\"JBSS3.SA\"]/df['JBSS3.SA'].shift(1))\n",
    "df_ret[\"LogRetornosTaee\"]=np.log(df[\"TAEE11.SA\"]/df['TAEE11.SA'].shift(1))\n",
    "df_ret=df_ret.dropna()\n",
    "peso=0.2\n",
    "portfolio=pd.DataFrame((peso*df_ret[\"LogRetornosPetr\"]+peso*df_ret['LogRetornosCsna']+peso*df_ret['LogRetornosItub']+peso*df_ret['LogRetornosJbss']+peso*df_ret['LogRetornosTaee']),columns=['Retorno'])\n",
    "\n",
    "portfolio"
   ]
  },
  {
   "cell_type": "code",
   "execution_count": 42,
   "metadata": {},
   "outputs": [
    {
     "data": {
      "text/html": [
       "<div>\n",
       "<style scoped>\n",
       "    .dataframe tbody tr th:only-of-type {\n",
       "        vertical-align: middle;\n",
       "    }\n",
       "\n",
       "    .dataframe tbody tr th {\n",
       "        vertical-align: top;\n",
       "    }\n",
       "\n",
       "    .dataframe thead th {\n",
       "        text-align: right;\n",
       "    }\n",
       "</style>\n",
       "<table border=\"1\" class=\"dataframe\">\n",
       "  <thead>\n",
       "    <tr style=\"text-align: right;\">\n",
       "      <th></th>\n",
       "      <th>Retorno</th>\n",
       "    </tr>\n",
       "    <tr>\n",
       "      <th>Date</th>\n",
       "      <th></th>\n",
       "    </tr>\n",
       "  </thead>\n",
       "  <tbody>\n",
       "    <tr>\n",
       "      <th>2017-01-03 00:00:00-02:00</th>\n",
       "      <td>1.666483</td>\n",
       "    </tr>\n",
       "    <tr>\n",
       "      <th>2017-01-04 00:00:00-02:00</th>\n",
       "      <td>-0.188308</td>\n",
       "    </tr>\n",
       "    <tr>\n",
       "      <th>2017-01-05 00:00:00-02:00</th>\n",
       "      <td>0.649295</td>\n",
       "    </tr>\n",
       "    <tr>\n",
       "      <th>2017-01-06 00:00:00-02:00</th>\n",
       "      <td>-0.462181</td>\n",
       "    </tr>\n",
       "    <tr>\n",
       "      <th>2017-01-09 00:00:00-02:00</th>\n",
       "      <td>-0.154178</td>\n",
       "    </tr>\n",
       "    <tr>\n",
       "      <th>...</th>\n",
       "      <td>...</td>\n",
       "    </tr>\n",
       "    <tr>\n",
       "      <th>2021-12-23 00:00:00-03:00</th>\n",
       "      <td>0.132053</td>\n",
       "    </tr>\n",
       "    <tr>\n",
       "      <th>2021-12-27 00:00:00-03:00</th>\n",
       "      <td>0.291296</td>\n",
       "    </tr>\n",
       "    <tr>\n",
       "      <th>2021-12-28 00:00:00-03:00</th>\n",
       "      <td>0.071823</td>\n",
       "    </tr>\n",
       "    <tr>\n",
       "      <th>2021-12-29 00:00:00-03:00</th>\n",
       "      <td>-0.152732</td>\n",
       "    </tr>\n",
       "    <tr>\n",
       "      <th>2021-12-30 00:00:00-03:00</th>\n",
       "      <td>-0.273576</td>\n",
       "    </tr>\n",
       "  </tbody>\n",
       "</table>\n",
       "<p>1242 rows × 1 columns</p>\n",
       "</div>"
      ],
      "text/plain": [
       "                            Retorno\n",
       "Date                               \n",
       "2017-01-03 00:00:00-02:00  1.666483\n",
       "2017-01-04 00:00:00-02:00 -0.188308\n",
       "2017-01-05 00:00:00-02:00  0.649295\n",
       "2017-01-06 00:00:00-02:00 -0.462181\n",
       "2017-01-09 00:00:00-02:00 -0.154178\n",
       "...                             ...\n",
       "2021-12-23 00:00:00-03:00  0.132053\n",
       "2021-12-27 00:00:00-03:00  0.291296\n",
       "2021-12-28 00:00:00-03:00  0.071823\n",
       "2021-12-29 00:00:00-03:00 -0.152732\n",
       "2021-12-30 00:00:00-03:00 -0.273576\n",
       "\n",
       "[1242 rows x 1 columns]"
      ]
     },
     "execution_count": 42,
     "metadata": {},
     "output_type": "execute_result"
    }
   ],
   "source": [
    "scaled_df=pd.DataFrame((portfolio[\"Retorno\"]-portfolio['Retorno'].mean())/portfolio['Retorno'].std(),columns=portfolio.columns)\n",
    "scaled_df"
   ]
  },
  {
   "cell_type": "code",
   "execution_count": 43,
   "metadata": {},
   "outputs": [
    {
     "data": {
      "image/png": "[encoded data removed]",
      "text/plain": [
       "<Figure size 1000x1000 with 1 Axes>"
      ]
     },
     "metadata": {},
     "output_type": "display_data"
    }
   ],
   "source": [
    "mu=scaled_df[\"Retorno\"].mean()\n",
    "std=np.std(scaled_df['Retorno'])\n",
    "fig=plt.figure(figsize=(10,10))\n",
    "\n",
    "ax1=fig.add_subplot(211,ylabel=\"Retornos\")\n",
    "\n",
    "ax1.hist(scaled_df,bins=500)\n",
    "\n",
    "x2=np.linspace(mu-7*std,mu+7*std,500)\n",
    "ax1.xaxis.set_ticks(np.linspace(mu-6*std,mu+6*std,13))\n",
    "#Normais multiplicadas por 100 apenas para adequação gráfica\n",
    "ax1.plot(x2,t.pdf(x2,5)*100, label=\"T-Student, df=5\")\n",
    "ax1.plot(x2,t.pdf(x2,10)*100,label=\"T-Student, df=10\")\n",
    "ax1.plot(x2,t.pdf(x2,50)*100,label=\"T-Student, df=50\")\n",
    "ax1.plot(x2,norm.pdf(x2,mu,std)*100,color='k',label=\"Normal\")\n",
    "plt.legend(loc='upper right')\n",
    "plt.show()"
   ]
  },
  {
   "cell_type": "code",
   "execution_count": 44,
   "metadata": {},
   "outputs": [
    {
     "data": {
      "text/plain": [
       "0.057739796515029695"
      ]
     },
     "execution_count": 44,
     "metadata": {},
     "output_type": "execute_result"
    }
   ],
   "source": [
    "n=0.03/np.std(portfolio['Retorno'])\n",
    "1-norm.cdf(n)"
   ]
  },
  {
   "cell_type": "code",
   "execution_count": 45,
   "metadata": {},
   "outputs": [
    {
     "data": {
      "text/plain": [
       "[<matplotlib.lines.Line2D at 0x1e5ff5b34f0>]"
      ]
     },
     "execution_count": 45,
     "metadata": {},
     "output_type": "execute_result"
    },
    {
     "data": {
      "image/png": "[encoded data removed]",
      "text/plain": [
       "<Figure size 1000x1000 with 1 Axes>"
      ]
     },
     "metadata": {},
     "output_type": "display_data"
    }
   ],
   "source": [
    "fig=plt.figure(figsize=(10,10))\n",
    "ax1=fig.add_subplot(211)\n",
    "ax1.plot(x2,norm.pdf(x2,mu,std),color='k',label=\"Normal PDF\")\n",
    "ax1.plot(x2,norm.cdf(x2))"
   ]
  },
  {
   "cell_type": "code",
   "execution_count": 46,
   "metadata": {},
   "outputs": [
    {
     "name": "stdout",
     "output_type": "stream",
     "text": [
      "[-1.31221691] [15.31462022]\n"
     ]
    }
   ],
   "source": [
    "print(skew(portfolio,bias=True),kurtosis(portfolio,bias=True))"
   ]
  },
  {
   "cell_type": "code",
   "execution_count": 47,
   "metadata": {},
   "outputs": [
    {
     "name": "stdout",
     "output_type": "stream",
     "text": [
      "-0.008452699509608962 0.4750402576489533\n"
     ]
    }
   ],
   "source": [
    "percentile=np.percentile(portfolio,25)\n",
    "n=len(portfolio[portfolio['Retorno']<0])\n",
    "percentage=n/1242\n",
    "print(percentile,percentage)"
   ]
  },
  {
   "cell_type": "code",
   "execution_count": 48,
   "metadata": {},
   "outputs": [
    {
     "data": {
      "text/plain": [
       "(Retorno    0.000731\n",
       " dtype: float64,\n",
       " Retorno    0.019067\n",
       " dtype: float64)"
      ]
     },
     "execution_count": 48,
     "metadata": {},
     "output_type": "execute_result"
    }
   ],
   "source": [
    "portfolio.mean(),portfolio.std()"
   ]
  },
  {
   "cell_type": "code",
   "execution_count": 80,
   "metadata": {},
   "outputs": [
    {
     "name": "stdout",
     "output_type": "stream",
     "text": [
      "[*********************100%***********************]  1 of 1 completed\n"
     ]
    },
    {
     "data": {
      "text/html": [
       "<div>\n",
       "<style scoped>\n",
       "    .dataframe tbody tr th:only-of-type {\n",
       "        vertical-align: middle;\n",
       "    }\n",
       "\n",
       "    .dataframe tbody tr th {\n",
       "        vertical-align: top;\n",
       "    }\n",
       "\n",
       "    .dataframe thead th {\n",
       "        text-align: right;\n",
       "    }\n",
       "</style>\n",
       "<table border=\"1\" class=\"dataframe\">\n",
       "  <thead>\n",
       "    <tr style=\"text-align: right;\">\n",
       "      <th></th>\n",
       "      <th>Adj Close</th>\n",
       "    </tr>\n",
       "    <tr>\n",
       "      <th>Date</th>\n",
       "      <th></th>\n",
       "    </tr>\n",
       "  </thead>\n",
       "  <tbody>\n",
       "    <tr>\n",
       "      <th>2017-01-03 00:00:00-02:00</th>\n",
       "      <td>0.036659</td>\n",
       "    </tr>\n",
       "    <tr>\n",
       "      <th>2017-01-04 00:00:00-02:00</th>\n",
       "      <td>-0.003647</td>\n",
       "    </tr>\n",
       "    <tr>\n",
       "      <th>2017-01-05 00:00:00-02:00</th>\n",
       "      <td>0.007796</td>\n",
       "    </tr>\n",
       "    <tr>\n",
       "      <th>2017-01-06 00:00:00-02:00</th>\n",
       "      <td>-0.006562</td>\n",
       "    </tr>\n",
       "    <tr>\n",
       "      <th>2017-01-09 00:00:00-02:00</th>\n",
       "      <td>0.000567</td>\n",
       "    </tr>\n",
       "    <tr>\n",
       "      <th>...</th>\n",
       "      <td>...</td>\n",
       "    </tr>\n",
       "    <tr>\n",
       "      <th>2021-12-23 00:00:00-03:00</th>\n",
       "      <td>-0.003360</td>\n",
       "    </tr>\n",
       "    <tr>\n",
       "      <th>2021-12-27 00:00:00-03:00</th>\n",
       "      <td>0.006083</td>\n",
       "    </tr>\n",
       "    <tr>\n",
       "      <th>2021-12-28 00:00:00-03:00</th>\n",
       "      <td>-0.006340</td>\n",
       "    </tr>\n",
       "    <tr>\n",
       "      <th>2021-12-29 00:00:00-03:00</th>\n",
       "      <td>-0.007245</td>\n",
       "    </tr>\n",
       "    <tr>\n",
       "      <th>2021-12-30 00:00:00-03:00</th>\n",
       "      <td>0.006844</td>\n",
       "    </tr>\n",
       "  </tbody>\n",
       "</table>\n",
       "<p>1234 rows × 1 columns</p>\n",
       "</div>"
      ],
      "text/plain": [
       "                           Adj Close\n",
       "Date                                \n",
       "2017-01-03 00:00:00-02:00   0.036659\n",
       "2017-01-04 00:00:00-02:00  -0.003647\n",
       "2017-01-05 00:00:00-02:00   0.007796\n",
       "2017-01-06 00:00:00-02:00  -0.006562\n",
       "2017-01-09 00:00:00-02:00   0.000567\n",
       "...                              ...\n",
       "2021-12-23 00:00:00-03:00  -0.003360\n",
       "2021-12-27 00:00:00-03:00   0.006083\n",
       "2021-12-28 00:00:00-03:00  -0.006340\n",
       "2021-12-29 00:00:00-03:00  -0.007245\n",
       "2021-12-30 00:00:00-03:00   0.006844\n",
       "\n",
       "[1234 rows x 1 columns]"
      ]
     },
     "execution_count": 80,
     "metadata": {},
     "output_type": "execute_result"
    }
   ],
   "source": [
    "df_ibov=pd.DataFrame(yf.download(\"^BVSP\",start='2017-01-01',end='2022-01-01')[\"Adj Close\"],columns=[\"Adj Close\"])\n",
    "df_ibov_ret=pd.DataFrame(np.log((df_ibov/df_ibov.shift(1))))\n",
    "\n",
    "df_ibov_ret=df_ibov_ret.dropna()\n",
    "df_ibov_ret"
   ]
  },
  {
   "cell_type": "code",
   "execution_count": 85,
   "metadata": {},
   "outputs": [
    {
     "name": "stdout",
     "output_type": "stream",
     "text": [
      "0.1781730085459513 \n",
      " 0.7075349339758569\n"
     ]
    }
   ],
   "source": [
    "t1,p1=ttest_1samp(portfolio['Retorno'],0)\n",
    "t2,p2=ttest_ind(portfolio['Retorno'],df_ibov_ret['Adj Close'])\n",
    "print(p1,'\\n',p2)\n",
    "\n"
   ]
  }
 ],
 "metadata": {
  "kernelspec": {
   "display_name": "Python 3.10.5 64-bit",
   "language": "python",
   "name": "python3"
  },
  "language_info": {
   "codemirror_mode": {
    "name": "ipython",
    "version": 3
   },
   "file_extension": ".py",
   "mimetype": "text/x-python",
   "name": "python",
   "nbconvert_exporter": "python",
   "pygments_lexer": "ipython3",
   "version": "3.10.5"
  },
  "orig_nbformat": 4,
  "vscode": {
   "interpreter": {
    "hash": "d2b727a53bc630e3016b6bc68dd373ebf565d76a51f2b958a785be966eb27a09"
   }
  }
 },
 "nbformat": 4,
 "nbformat_minor": 2
}
